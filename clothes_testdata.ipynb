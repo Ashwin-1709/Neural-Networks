{
 "cells": [
  {
   "cell_type": "code",
   "execution_count": 1,
   "source": [
    "import tensorflow as tf\r\n",
    "from tensorflow import keras"
   ],
   "outputs": [],
   "metadata": {}
  },
  {
   "cell_type": "code",
   "execution_count": 59,
   "source": [
    "class Mycallback(tf.keras.callbacks.Callback):\r\n",
    "    def on_epoch_end(self, epoch, logs={}): #this will trigger only when epoch ends\r\n",
    "        if(logs.get('accuracy') > 0.6):\r\n",
    "            print(\"\\n Accuracy reached , cancelling training \")\r\n",
    "            self.model.stop_training = True"
   ],
   "outputs": [],
   "metadata": {}
  },
  {
   "cell_type": "code",
   "execution_count": 60,
   "source": [
    "callback = Mycallback()\r\n",
    "fashion_mnist = keras.datasets.fashion_mnist\r\n",
    "(train_images , train_labels) , (test_images , test_labels) = fashion_mnist.load_data()"
   ],
   "outputs": [],
   "metadata": {}
  },
  {
   "cell_type": "code",
   "execution_count": null,
   "source": [
    "import numpy as np\r\n",
    "np.set_printoptions(linewidth=200)\r\n",
    "import matplotlib.pyplot as plt\r\n",
    "plt.imshow(train_images[0])\r\n",
    "print(train_images[0])\r\n",
    "print(train_labels[0])"
   ],
   "outputs": [],
   "metadata": {}
  },
  {
   "cell_type": "code",
   "execution_count": 61,
   "source": [
    "train_images = train_images/255.0\r\n",
    "test_images = test_images/255.0"
   ],
   "outputs": [],
   "metadata": {}
  },
  {
   "cell_type": "code",
   "execution_count": 62,
   "source": [
    "model = tf.keras.models.Sequential([\r\n",
    "    keras.layers.Flatten(),\r\n",
    "    keras.layers.Dense(128, activation=tf.nn.relu),\r\n",
    "    keras.layers.Dense(10, activation=tf.nn.softmax)\r\n",
    "])"
   ],
   "outputs": [],
   "metadata": {}
  },
  {
   "cell_type": "code",
   "execution_count": 63,
   "source": [
    "model.compile(optimizer=tf.optimizers.Adam(),loss= 'sparse_categorical_crossentropy',metrics=['accuracy'])\r\n",
    "model.fit(train_images , train_labels , epochs=5 , callbacks = [callback])"
   ],
   "outputs": [
    {
     "output_type": "stream",
     "name": "stdout",
     "text": [
      "Epoch 1/5\n",
      "1875/1875 [==============================] - 5s 2ms/step - loss: 0.4975 - accuracy: 0.8249\n",
      "\n",
      " Accuracy reached , cancelling training \n"
     ]
    },
    {
     "output_type": "execute_result",
     "data": {
      "text/plain": [
       "<keras.callbacks.History at 0x1f730fe3c70>"
      ]
     },
     "metadata": {},
     "execution_count": 63
    }
   ],
   "metadata": {}
  },
  {
   "cell_type": "code",
   "execution_count": null,
   "source": [
    "model.evaluate(test_images, test_labels)"
   ],
   "outputs": [],
   "metadata": {}
  }
 ],
 "metadata": {
  "orig_nbformat": 4,
  "language_info": {
   "name": "python",
   "version": "3.8.8",
   "mimetype": "text/x-python",
   "codemirror_mode": {
    "name": "ipython",
    "version": 3
   },
   "pygments_lexer": "ipython3",
   "nbconvert_exporter": "python",
   "file_extension": ".py"
  },
  "kernelspec": {
   "name": "python3",
   "display_name": "Python 3.8.8 64-bit ('base': conda)"
  },
  "interpreter": {
   "hash": "b3ba2566441a7c06988d0923437866b63cedc61552a5af99d1f4fb67d367b25f"
  }
 },
 "nbformat": 4,
 "nbformat_minor": 2
}