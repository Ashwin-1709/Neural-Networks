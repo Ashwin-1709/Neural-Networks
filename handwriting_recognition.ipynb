{
 "cells": [
  {
   "cell_type": "code",
   "execution_count": 4,
   "source": [
    "import tensorflow as tf\r\n",
    "from tensorflow import keras\r\n",
    "from os import path, getcwd, chdir"
   ],
   "outputs": [],
   "metadata": {}
  },
  {
   "cell_type": "code",
   "execution_count": 2,
   "source": [
    "path = f\"{getcwd()}/../tmp2/mnist.npz\""
   ],
   "outputs": [],
   "metadata": {}
  },
  {
   "cell_type": "code",
   "execution_count": 5,
   "source": [
    "class Mycallback(tf.keras.callbacks.Callback):\r\n",
    "    def on_epoch_end(self , epoch , logs={}):\r\n",
    "        if(logs.get('acc') > 0.99):\r\n",
    "            print(\"Reached 99% accuracy so cancelling training!\")\r\n",
    "            self.model.stop_training = True\r\n",
    "    "
   ],
   "outputs": [],
   "metadata": {}
  },
  {
   "cell_type": "code",
   "execution_count": 12,
   "source": [
    "def train_mnist():\r\n",
    "    mnist = keras.datasets.mnist\r\n",
    "    (x_train, y_train),(x_test, y_test) = mnist.load_data()\r\n",
    "    x_train = x_train/255.0 #why did this improve accuracy\r\n",
    "    x_test = x_test/255.0\r\n",
    "    model = tf.keras.models.Sequential([\r\n",
    "        keras.layers.Flatten(),\r\n",
    "        keras.layers.Dense(512 , tf.nn.relu),\r\n",
    "        keras.layers.Dense(10 , tf.nn.softmax)\r\n",
    "    ])\r\n",
    "    callback = Mycallback()\r\n",
    "    model.compile(tf.keras.optimizers.Adam(), loss='sparse_categorical_crossentropy', metrics=['acc'])\r\n",
    "    history = model.fit(x_train , y_train ,epochs=10, callbacks=[callback])\r\n",
    "    return history.epoch, history.history['acc'][-1]"
   ],
   "outputs": [],
   "metadata": {}
  },
  {
   "cell_type": "code",
   "execution_count": null,
   "source": [
    "train_mnist()"
   ],
   "outputs": [],
   "metadata": {}
  }
 ],
 "metadata": {
  "orig_nbformat": 4,
  "language_info": {
   "name": "python",
   "version": "3.8.8",
   "mimetype": "text/x-python",
   "codemirror_mode": {
    "name": "ipython",
    "version": 3
   },
   "pygments_lexer": "ipython3",
   "nbconvert_exporter": "python",
   "file_extension": ".py"
  },
  "kernelspec": {
   "name": "python3",
   "display_name": "Python 3.8.8 64-bit ('base': conda)"
  },
  "interpreter": {
   "hash": "b3ba2566441a7c06988d0923437866b63cedc61552a5af99d1f4fb67d367b25f"
  }
 },
 "nbformat": 4,
 "nbformat_minor": 2
}