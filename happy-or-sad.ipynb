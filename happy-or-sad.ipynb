{
 "cells": [
  {
   "cell_type": "code",
   "execution_count": 1,
   "source": [
    "import tensorflow as tf\r\n",
    "import numpy as np\r\n",
    "from tensorflow import keras"
   ],
   "outputs": [],
   "metadata": {}
  },
  {
   "cell_type": "code",
   "execution_count": null,
   "source": [
    "import tensorflow as tf\r\n",
    "import os\r\n",
    "import zipfile\r\n",
    "from os import path, getcwd, chdir\r\n",
    "\r\n",
    "path = f\"{getcwd()}/../tmp2/happy-or-sad.zip\"\r\n",
    "\r\n",
    "zip_ref = zipfile.ZipFile(path, 'r')\r\n",
    "zip_ref.extractall(\"/tmp/h-or-s\")\r\n",
    "zip_ref.close()"
   ],
   "outputs": [],
   "metadata": {}
  },
  {
   "cell_type": "code",
   "execution_count": 5,
   "source": [
    "def train_happy_sad_model():\r\n",
    "    DESIRED_ACCURACY = 0.999\r\n",
    "    class Mycallback(tf.keras.callbacks.Callback):\r\n",
    "        def on_epoch_end(self,epoch,logs={}):\r\n",
    "            if(logs.get('acc') > DESIRED_ACCURACY):\r\n",
    "                self.model.stop_training = True\r\n",
    "    callback = Mycallback()\r\n",
    "    model = tf.keras.Sequential([\r\n",
    "        tf.keras.layers.Conv2D(16 , (3,3) , activation='relu' , input_shape=(150,150,3)),\r\n",
    "        tf.keras.layers.MaxPool2D(2,2),\r\n",
    "        tf.keras.layers.Conv2D(32 , (3,3) , activation='relu'),\r\n",
    "        tf.keras.layers.MaxPool2D(2,2),\r\n",
    "        tf.keras.layers.Conv2D(64,(3,3),activation='relu'),\r\n",
    "        tf.keras.layers.MaxPool2D(2,2),\r\n",
    "        tf.keras.layers.Flatten(),\r\n",
    "        tf.keras.layers.Dense(512 , activation='relu'),\r\n",
    "        tf.keras.layers.Dense(1,activation='sigmoid')\r\n",
    "    ])\r\n",
    "\r\n",
    "    from tensorflow.keras.optimizers import RMSprop\r\n",
    "    model.compile(loss='binary_crossentropy',optimizer=RMSprop(lr=0.001),metrics=['accuracy'])\r\n",
    "    from tensorflow.keras.preprocessing.image import ImageDataGenerator\r\n",
    "    train_datagen = ImageDataGenerator(rescale=1/255)\r\n",
    "    train_generator = train_datagen.flow_from_directory(\r\n",
    "        '/tmp/h-or-s',\r\n",
    "        target_size=(150,150),\r\n",
    "        batch_size=80,\r\n",
    "        class_mode='binary'\r\n",
    "    )\r\n",
    "\r\n",
    "    history = model.fit(train_generator , steps_per_epoch=8 , epochs=15 , verbose=1 , callbacks=[callback] )\r\n",
    "    return history.history['accuracy'][-1]\r\n",
    "\r\n",
    "    "
   ],
   "outputs": [],
   "metadata": {}
  },
  {
   "cell_type": "code",
   "execution_count": null,
   "source": [
    "train_happy_sad_model()"
   ],
   "outputs": [],
   "metadata": {}
  }
 ],
 "metadata": {
  "orig_nbformat": 4,
  "language_info": {
   "name": "python",
   "version": "3.8.8",
   "mimetype": "text/x-python",
   "codemirror_mode": {
    "name": "ipython",
    "version": 3
   },
   "pygments_lexer": "ipython3",
   "nbconvert_exporter": "python",
   "file_extension": ".py"
  },
  "kernelspec": {
   "name": "python3",
   "display_name": "Python 3.8.8 64-bit ('base': conda)"
  },
  "interpreter": {
   "hash": "b3ba2566441a7c06988d0923437866b63cedc61552a5af99d1f4fb67d367b25f"
  }
 },
 "nbformat": 4,
 "nbformat_minor": 2
}